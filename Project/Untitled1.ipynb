{
 "cells": [
  {
   "cell_type": "code",
   "execution_count": 1,
   "id": "58f125d6-71a4-4f23-9abf-0e1188a0eea0",
   "metadata": {},
   "outputs": [],
   "source": [
    "import tensorflow as tf\n",
    "import pandas as pd\n",
    "import numpy as np\n",
    "import matplotlib.pyplot as plt\n",
    "import tensorboard"
   ]
  },
  {
   "cell_type": "code",
   "execution_count": 36,
   "id": "359fdc8a-32b0-48ae-b193-b7d4d99c9fc2",
   "metadata": {},
   "outputs": [],
   "source": [
    "from datetime import datetime"
   ]
  },
  {
   "cell_type": "code",
   "execution_count": 4,
   "id": "0cd767c9-db37-434e-a124-bf1ae9023050",
   "metadata": {},
   "outputs": [],
   "source": [
    "dfx = pd.read_csv('data/Train_Data.csv')\n",
    "dfy = pd.read_csv('data/Traindata_classlabels.csv')"
   ]
  },
  {
   "cell_type": "code",
   "execution_count": 38,
   "id": "c051550a-c3e7-4381-ae82-5d647760e711",
   "metadata": {},
   "outputs": [],
   "source": [
    "from tensorflow import keras"
   ]
  },
  {
   "cell_type": "code",
   "execution_count": 6,
   "id": "94c441b5-c65a-4498-8f9e-fe8ee8ff7ad7",
   "metadata": {},
   "outputs": [],
   "source": [
    "from tensorflow.keras import layers\n",
    "from tensorflow.keras.models import Sequential  "
   ]
  },
  {
   "cell_type": "code",
   "execution_count": 43,
   "id": "30aff598-41cf-4570-9931-dcf678b3941e",
   "metadata": {},
   "outputs": [],
   "source": [
    "train_features = dfx.sample(frac=0.8, random_state=0)\n",
    "test_features = dfx.drop(train_features.index)\n",
    "train_labels = dfy.iloc[train_features.index]\n",
    "test_labels = dfy.iloc[test_features.index]"
   ]
  },
  {
   "cell_type": "code",
   "execution_count": null,
   "id": "684acba7-17a6-4397-a252-952888919f6a",
   "metadata": {},
   "outputs": [],
   "source": []
  },
  {
   "cell_type": "code",
   "execution_count": 44,
   "id": "21e3dd63-f90a-46ce-8a34-79ba4dc9e27f",
   "metadata": {},
   "outputs": [],
   "source": [
    "normalizer = tf.keras.layers.experimental.preprocessing.Normalization(axis=-1)"
   ]
  },
  {
   "cell_type": "code",
   "execution_count": 34,
   "id": "f4a63ce4-eb53-4f46-9489-31c6c1991b68",
   "metadata": {},
   "outputs": [
    {
     "name": "stdout",
     "output_type": "stream",
     "text": [
      "First example: [[1454.     1.     0.5    1.     1.     0.    34.     0.7   83.     4.\n",
      "     3.   250.  1033.  3419.     7.     5.     5.     1.     1.     0. ]]\n",
      "\n",
      "Normalized: [[ 0.49  1.01 -1.24  0.98 -0.76 -1.04  0.11  0.69 -1.61 -0.22 -1.14 -0.91\n",
      "  -0.52  1.21 -1.25 -0.17 -1.1   0.56  0.99 -1.01]]\n"
     ]
    }
   ],
   "source": [
    "normalizer.adapt(np.array(train_features))\n",
    "first = np.array(train_features[:1])\n",
    "\n",
    "with np.printoptions(precision=2, suppress=True):\n",
    "  print('First example:', first)\n",
    "  print()\n",
    "  print('Normalized:', normalizer(first).numpy())"
   ]
  },
  {
   "cell_type": "code",
   "execution_count": 46,
   "id": "c73cfee6-ded2-4ee9-bcd9-912dfe390053",
   "metadata": {},
   "outputs": [],
   "source": [
    "model = Sequential([\n",
    "    normalizer,\n",
    "    layers.Dense(64),\n",
    "    layers.Dense(10),\n",
    "    layers.Dense(4,activation='softmax')\n",
    "    \n",
    "])\n",
    "model.compile( optimizer=tf.keras.optimizers.Adam(learning_rate=0.001),\n",
    "    loss=tf.keras.losses.CategoricalCrossentropy(from_logits=True),\n",
    "    metrics=[\"accuracy\"])\n",
    "# Loading tensorboard for visualization.\n",
    "# logdir = \"logs/fit/\" + datetime.now().strftime(\"%Y%m%d-%H%M%S\")\n",
    "# tensorboard_callback = keras.callbacks.TensorBoard(log_dir=logdir)\n",
    "\n",
    "epochs = 100\n",
    "history = model.fit(\n",
    "    train_features,train_labels, epochs=epochs, verbose=0,validation_split=0.2#,callbacks=[tensorboard_callback]\n",
    ")\n",
    "# model.summary()"
   ]
  },
  {
   "cell_type": "code",
   "execution_count": 48,
   "id": "b3f4ffc7-56eb-4276-a2ab-cd1e9fe97863",
   "metadata": {},
   "outputs": [
    {
     "data": {
      "text/plain": [
       "[0.0, 0.24500000476837158]"
      ]
     },
     "execution_count": 48,
     "metadata": {},
     "output_type": "execute_result"
    }
   ],
   "source": [
    "test_results = model.evaluate(\n",
    "    test_features, test_labels, verbose=0)\n",
    "test_results"
   ]
  },
  {
   "cell_type": "code",
   "execution_count": 49,
   "id": "e2dda3ab-63f7-4156-836a-c7820188e715",
   "metadata": {},
   "outputs": [
    {
     "data": {
      "text/html": [
       "<div>\n",
       "<style scoped>\n",
       "    .dataframe tbody tr th:only-of-type {\n",
       "        vertical-align: middle;\n",
       "    }\n",
       "\n",
       "    .dataframe tbody tr th {\n",
       "        vertical-align: top;\n",
       "    }\n",
       "\n",
       "    .dataframe thead th {\n",
       "        text-align: right;\n",
       "    }\n",
       "</style>\n",
       "<table border=\"1\" class=\"dataframe\">\n",
       "  <thead>\n",
       "    <tr style=\"text-align: right;\">\n",
       "      <th></th>\n",
       "      <th>price_range</th>\n",
       "    </tr>\n",
       "  </thead>\n",
       "  <tbody>\n",
       "    <tr>\n",
       "      <th>405</th>\n",
       "      <td>3</td>\n",
       "    </tr>\n",
       "    <tr>\n",
       "      <th>1190</th>\n",
       "      <td>0</td>\n",
       "    </tr>\n",
       "    <tr>\n",
       "      <th>1132</th>\n",
       "      <td>2</td>\n",
       "    </tr>\n",
       "    <tr>\n",
       "      <th>731</th>\n",
       "      <td>2</td>\n",
       "    </tr>\n",
       "    <tr>\n",
       "      <th>1754</th>\n",
       "      <td>2</td>\n",
       "    </tr>\n",
       "    <tr>\n",
       "      <th>...</th>\n",
       "      <td>...</td>\n",
       "    </tr>\n",
       "    <tr>\n",
       "      <th>1348</th>\n",
       "      <td>0</td>\n",
       "    </tr>\n",
       "    <tr>\n",
       "      <th>1300</th>\n",
       "      <td>3</td>\n",
       "    </tr>\n",
       "    <tr>\n",
       "      <th>1308</th>\n",
       "      <td>3</td>\n",
       "    </tr>\n",
       "    <tr>\n",
       "      <th>470</th>\n",
       "      <td>3</td>\n",
       "    </tr>\n",
       "    <tr>\n",
       "      <th>1450</th>\n",
       "      <td>0</td>\n",
       "    </tr>\n",
       "  </tbody>\n",
       "</table>\n",
       "<p>1600 rows × 1 columns</p>\n",
       "</div>"
      ],
      "text/plain": [
       "      price_range\n",
       "405             3\n",
       "1190            0\n",
       "1132            2\n",
       "731             2\n",
       "1754            2\n",
       "...           ...\n",
       "1348            0\n",
       "1300            3\n",
       "1308            3\n",
       "470             3\n",
       "1450            0\n",
       "\n",
       "[1600 rows x 1 columns]"
      ]
     },
     "execution_count": 49,
     "metadata": {},
     "output_type": "execute_result"
    }
   ],
   "source": [
    "train_labels"
   ]
  }
 ],
 "metadata": {
  "kernelspec": {
   "display_name": "Python 3 (ipykernel)",
   "language": "python",
   "name": "python3"
  },
  "language_info": {
   "codemirror_mode": {
    "name": "ipython",
    "version": 3
   },
   "file_extension": ".py",
   "mimetype": "text/x-python",
   "name": "python",
   "nbconvert_exporter": "python",
   "pygments_lexer": "ipython3",
   "version": "3.8.8"
  }
 },
 "nbformat": 4,
 "nbformat_minor": 5
}
